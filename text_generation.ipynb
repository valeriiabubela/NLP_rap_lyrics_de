{
 "cells": [
  {
   "cell_type": "code",
   "execution_count": 3,
   "id": "cdb048c6",
   "metadata": {},
   "outputs": [],
   "source": [
    "from transformers import pipeline"
   ]
  },
  {
   "cell_type": "markdown",
   "id": "0692e24f",
   "metadata": {},
   "source": [
    "### Examples with a model trained on songs"
   ]
  },
  {
   "cell_type": "code",
   "execution_count": 6,
   "id": "67935e67",
   "metadata": {},
   "outputs": [
    {
     "name": "stderr",
     "output_type": "stream",
     "text": [
      "Special tokens have been added in the vocabulary, make sure the associated word embeddings are fine-tuned or trained.\n"
     ]
    }
   ],
   "source": [
    "lyrics1 = pipeline(\"text-generation\",model=\"gpt2_rap_lyrics_song_level\",tokenizer=\"anonymous-german-nlp/german-gpt2\")"
   ]
  },
  {
   "cell_type": "code",
   "execution_count": 7,
   "id": "6900350d",
   "metadata": {},
   "outputs": [
    {
     "name": "stderr",
     "output_type": "stream",
     "text": [
      "Setting `pad_token_id` to `eos_token_id`:50256 for open-end generation.\n"
     ]
    },
    {
     "name": "stdout",
     "output_type": "stream",
     "text": [
      "Kapitalismus ist nicht der Feind des Geldes die Dinge die ich rappe bist du da wo ich mir den Hals zerbreche aus der Asche bist du hier denn in der Gesellschaft gibt es viele Rapper und Rapper wie mich hier in Köln macht es uns\n"
     ]
    }
   ],
   "source": [
    "result = lyrics1('Kapitalismus')[0]['generated_text']\n",
    "print(result)"
   ]
  },
  {
   "cell_type": "code",
   "execution_count": 29,
   "id": "146bd469",
   "metadata": {},
   "outputs": [
    {
     "name": "stderr",
     "output_type": "stream",
     "text": [
      "Setting `pad_token_id` to `eos_token_id`:50256 for open-end generation.\n"
     ]
    },
    {
     "name": "stdout",
     "output_type": "stream",
     "text": [
      "Dieser Beat ist schon alles weg das ist doch kein Rap der sich hier findet Rap man ist nicht da jeder ist cool sie haben keine Probleme bei dir wie alle Rapper die sich nicht zu uns n zählen doch wir sind nicht die einzigen die was haben wie ihr\n"
     ]
    }
   ],
   "source": [
    "result = lyrics1('Dieser Beat')[0]['generated_text']\n",
    "print(result)"
   ]
  },
  {
   "cell_type": "code",
   "execution_count": 33,
   "id": "d52ce6b2",
   "metadata": {},
   "outputs": [
    {
     "name": "stderr",
     "output_type": "stream",
     "text": [
      "Setting `pad_token_id` to `eos_token_id`:50256 for open-end generation.\n"
     ]
    },
    {
     "name": "stdout",
     "output_type": "stream",
     "text": [
      "Zuhause und Heimat mit der Familie mit Freunden auch vor meinem Vater und den Großeltern immer wenn die Sonne nicht scheint ist dein Leben hart doch mein Glaube ist arm wie der Himmel weiß wie viel er verdient hat Meine Eltern und meine Mutter sind arm wie der Himmel\n"
     ]
    }
   ],
   "source": [
    "result = lyrics1('Zuhause und Heimat')[0]['generated_text']\n",
    "print(result)"
   ]
  },
  {
   "cell_type": "markdown",
   "id": "b8a51a86",
   "metadata": {},
   "source": [
    "### Examples with a model trained on refrains"
   ]
  },
  {
   "cell_type": "code",
   "execution_count": 36,
   "id": "856d9284",
   "metadata": {},
   "outputs": [],
   "source": [
    "#As mentioned in the description on GitHub, since I accidentely marked all newlines as \"/n\" and not as \\n \n",
    "#in the last step of dataset cleaning, the system learnt it this way. \n",
    "#With the following function, generated text can be split correctly into separate lines.\n",
    "def refrain(text):\n",
    "    text = re.sub(\"/n\", \"\\n\", text)\n",
    "    return text"
   ]
  },
  {
   "cell_type": "code",
   "execution_count": 8,
   "id": "9cbfdf86",
   "metadata": {},
   "outputs": [
    {
     "name": "stderr",
     "output_type": "stream",
     "text": [
      "Special tokens have been added in the vocabulary, make sure the associated word embeddings are fine-tuned or trained.\n"
     ]
    }
   ],
   "source": [
    "lyrics2 = pipeline(\"text-generation\",model=\"gpt2_rap_lyrics_refrain_level\",tokenizer=\"anonymous-german-nlp/german-gpt2\")"
   ]
  },
  {
   "cell_type": "code",
   "execution_count": 9,
   "id": "d005b803",
   "metadata": {},
   "outputs": [
    {
     "name": "stderr",
     "output_type": "stream",
     "text": [
      "Setting `pad_token_id` to `eos_token_id`:50256 for open-end generation.\n"
     ]
    },
    {
     "name": "stdout",
     "output_type": "stream",
     "text": [
      "Kapitalismus ist der Teufel der am Block in dem Auto sitzt/ndu machst auf die Welt auf/nMach weiter den Weg nach dem ich es mir verdient hab/nAlles für die Straße oder für die Heimat/nAlles was du willst kannst\n"
     ]
    }
   ],
   "source": [
    "result = lyrics2('Kapitalismus')[0]['generated_text']\n",
    "print(result)"
   ]
  },
  {
   "cell_type": "code",
   "execution_count": 26,
   "id": "6e2e3040",
   "metadata": {},
   "outputs": [
    {
     "name": "stdout",
     "output_type": "stream",
     "text": [
      "Kapitalismus ist der Teufel der am Block in dem Auto sitzt\n",
      "du machst auf die Welt auf\n",
      "Mach weiter den Weg nach dem ich es mir verdient hab\n",
      "Alles für die Straße oder für die Heimat\n",
      "Alles was du willst kannst\n"
     ]
    }
   ],
   "source": [
    "result = refrain(result)\n",
    "print(result)"
   ]
  },
  {
   "cell_type": "code",
   "execution_count": 28,
   "id": "570622f3",
   "metadata": {},
   "outputs": [
    {
     "name": "stderr",
     "output_type": "stream",
     "text": [
      "Setting `pad_token_id` to `eos_token_id`:50256 for open-end generation.\n"
     ]
    },
    {
     "name": "stdout",
     "output_type": "stream",
     "text": [
      "Dieser Beat macht den Beat aus mir\n",
      "sieh an ich bin mein Vorbild\n",
      "ach meinem Vorbild bist du mein Vorbild\n",
      "Mach es kurz und dann bist du mein Vorbild\n",
      "Hab grad ein paar Freunde gewonnen\n",
      "mit vielen Hits die dich\n"
     ]
    }
   ],
   "source": [
    "result = lyrics2('Dieser Beat')[0]['generated_text']\n",
    "print(refrain(result))"
   ]
  },
  {
   "cell_type": "code",
   "execution_count": 34,
   "id": "beae8a96",
   "metadata": {},
   "outputs": [
    {
     "name": "stderr",
     "output_type": "stream",
     "text": [
      "Setting `pad_token_id` to `eos_token_id`:50256 for open-end generation.\n"
     ]
    },
    {
     "name": "stdout",
     "output_type": "stream",
     "text": [
      "Zuhause und Heimat\n",
      "Ich komme von der Wiege der Stadt\n",
      "und bleib nie sitzen\n",
      "Ich komme zu keiner Zeit wenn ich keine Antwort heebe\n",
      "doch bin doch kein Freund von mir\n",
      "weil ich schon zu oft im\n"
     ]
    }
   ],
   "source": [
    "result = lyrics2('Zuhause und Heimat')[0]['generated_text']\n",
    "print(refrain(result))"
   ]
  }
 ],
 "metadata": {
  "kernelspec": {
   "display_name": "Python 3",
   "language": "python",
   "name": "python3"
  },
  "language_info": {
   "codemirror_mode": {
    "name": "ipython",
    "version": 3
   },
   "file_extension": ".py",
   "mimetype": "text/x-python",
   "name": "python",
   "nbconvert_exporter": "python",
   "pygments_lexer": "ipython3",
   "version": "3.8.8"
  }
 },
 "nbformat": 4,
 "nbformat_minor": 5
}
